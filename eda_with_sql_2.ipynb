{
 "cells": [
  {
   "attachments": {
    "sqlite.jpeg": {
     "image/jpeg": "[encoded data removed]"
    }
   },
   "cell_type": "markdown",
   "id": "3a2bc376",
   "metadata": {},
   "source": [
    "![sqlite.jpeg](attachment:sqlite.jpeg)"
   ]
  },
  {
   "cell_type": "markdown",
   "id": "88918908",
   "metadata": {},
   "source": [
    "# Exploratory Data Analysis with SQL (2)\n",
    "\n",
    "This notebook uses the 120 years of Olympics History dataset from Kaggle.\n",
    "\n",
    "For the purpose of practice of SQL syntax the 1% of the dataset was sampled and loaded into a sqlite database file. Hence, the database table, **`athletes`**, has just 2169 rows unlike the original dataset."
   ]
  },
  {
   "cell_type": "markdown",
   "id": "09cd476e",
   "metadata": {},
   "source": [
    "#### List of questions\n",
    "\n",
    "- Fetch the top 5 athletes who have won the most gold medals.\n",
    "- Fetch the top 5 most successful countries in olympics. Success is defined by no of medals won.\n",
    "- List down total gold medals won by each country.\n",
    "- Identify which country won the most bronze medals.\n",
    "- In which Sport/event, has United States won highest medals?\n",
    "- Break down all olympic games where india won medal for Hockey and how many medals in each olympic games."
   ]
  },
  {
   "cell_type": "markdown",
   "id": "9a4317df",
   "metadata": {},
   "source": [
    "# Connect to SQLite DB"
   ]
  },
  {
   "cell_type": "code",
   "execution_count": null,
   "id": "ce13ec7a",
   "metadata": {},
   "outputs": [],
   "source": [
    "# !pip install sqlalchemy\n",
    "# !pip install ipython-sql"
   ]
  },
  {
   "cell_type": "code",
   "execution_count": null,
   "id": "3c04703a",
   "metadata": {},
   "outputs": [],
   "source": [
    "%load_ext sql"
   ]
  },
  {
   "cell_type": "code",
   "execution_count": null,
   "id": "ade3c86f",
   "metadata": {},
   "outputs": [],
   "source": [
    "import csv, sqlite3"
   ]
  },
  {
   "cell_type": "code",
   "execution_count": null,
   "id": "210d92b4",
   "metadata": {},
   "outputs": [],
   "source": [
    "con = sqlite3.connect(\"athletes.db\")\n",
    "cur = con.cursor()"
   ]
  },
  {
   "cell_type": "code",
   "execution_count": null,
   "id": "77c3f6de",
   "metadata": {},
   "outputs": [],
   "source": [
    "%sql sqlite:///athletes.db"
   ]
  },
  {
   "cell_type": "markdown",
   "id": "ea4909e0",
   "metadata": {},
   "source": [
    "#### 1. Fetch the top 5 athletes who have won the most gold medals."
   ]
  },
  {
   "cell_type": "markdown",
   "id": "66e48afb",
   "metadata": {},
   "source": [
    "#### 2. Fetch the top 5 most successful countries in olympics. Success is defined by no of medals won."
   ]
  },
  {
   "cell_type": "markdown",
   "id": "2131fbad",
   "metadata": {},
   "source": [
    "#### 3. List down total gold medals won by each country."
   ]
  },
  {
   "cell_type": "markdown",
   "id": "1dbc74c7",
   "metadata": {},
   "source": [
    "#### 4. Identify which country won the most bronze medals."
   ]
  },
  {
   "cell_type": "markdown",
   "id": "d8ca8b70",
   "metadata": {},
   "source": [
    "#### 5. In which Sport/event, has United States won the highest medals?"
   ]
  },
  {
   "cell_type": "markdown",
   "id": "637b47c3",
   "metadata": {},
   "source": [
    "#### 6. Break down all olympic games where india won medal for Hockey and how many medals in each olympic games."
   ]
  },
  {
   "cell_type": "markdown",
   "id": "1661f101",
   "metadata": {},
   "source": [
    "<div class=\"alert alert-block alert-danger\">\n",
    "    <h1>CLOSE DB CONNECTION!!!</h1>\n",
    "</div>"
   ]
  },
  {
   "cell_type": "code",
   "execution_count": null,
   "id": "1076e0bb",
   "metadata": {},
   "outputs": [],
   "source": [
    "con.close()"
   ]
  }
 ],
 "metadata": {
  "kernelspec": {
   "display_name": "Python 3 (ipykernel)",
   "language": "python",
   "name": "python3"
  },
  "language_info": {
   "codemirror_mode": {
    "name": "ipython",
    "version": 3
   },
   "file_extension": ".py",
   "mimetype": "text/x-python",
   "name": "python",
   "nbconvert_exporter": "python",
   "pygments_lexer": "ipython3",
   "version": "3.9.13"
  }
 },
 "nbformat": 4,
 "nbformat_minor": 5
}
