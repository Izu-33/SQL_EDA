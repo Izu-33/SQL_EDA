{
 "cells": [
  {
   "attachments": {
    "sqlite.jpeg": {
     "image/jpeg": "[encoded data removed]"
    }
   },
   "cell_type": "markdown",
   "id": "696f5010",
   "metadata": {},
   "source": [
    "![sqlite.jpeg](attachment:sqlite.jpeg)"
   ]
  },
  {
   "cell_type": "markdown",
   "id": "445241b2",
   "metadata": {},
   "source": [
    "# Exploratory Data Analysis with SQL\n",
    "\n",
    "This notebook uses the 120 years of Olympics History dataset from Kaggle.\n",
    "\n",
    "For the purpose of practice of SQL syntax the 1% of the dataset was sampled and loaded into a sqlite database file. Hence, the database table, **`athletes`**, has just 2169 rows unlike the original dataset."
   ]
  },
  {
   "cell_type": "markdown",
   "id": "2750ac10",
   "metadata": {},
   "source": [
    "#### List of Questions\n",
    "\n",
    "- How many olympics games have been held?\n",
    "- List down all Olympics games held so far.\n",
    "- Mention the total no of nations who participated in each olympics game?\n",
    "- Which year saw the highest and lowest no of countries participating in olympics?\n",
    "- Which nation has participated in all of the olympic games?\n",
    "- Identify the sport which was played in all summer olympics.\n",
    "- Which Sports were just played only once in the olympics?\n",
    "- Fetch the total no of sports played in each olympic games.\n",
    "- Fetch details of the oldest athletes to win a gold medal.\n",
    "- Find the Ratio of male and female athletes participated in all olympic games.\n"
   ]
  },
  {
   "cell_type": "markdown",
   "id": "0d6cbd3e",
   "metadata": {},
   "source": [
    "# Connect to SQLite DB"
   ]
  },
  {
   "cell_type": "code",
   "execution_count": null,
   "id": "2c1f5600",
   "metadata": {},
   "outputs": [],
   "source": [
    "# !pip install sqlalchemy\n",
    "# !pip install ipython-sql"
   ]
  },
  {
   "cell_type": "code",
   "execution_count": null,
   "id": "136fae3e",
   "metadata": {},
   "outputs": [],
   "source": [
    "%load_ext sql"
   ]
  },
  {
   "cell_type": "code",
   "execution_count": null,
   "id": "bc806c61",
   "metadata": {},
   "outputs": [],
   "source": [
    "import csv, sqlite3"
   ]
  },
  {
   "cell_type": "code",
   "execution_count": null,
   "id": "60e77881",
   "metadata": {},
   "outputs": [],
   "source": [
    "con = sqlite3.connect(\"athletes.db\")\n",
    "cur = con.cursor()"
   ]
  },
  {
   "cell_type": "code",
   "execution_count": null,
   "id": "61e4c2ff",
   "metadata": {},
   "outputs": [],
   "source": [
    "%sql sqlite:///athletes.db"
   ]
  },
  {
   "cell_type": "markdown",
   "id": "75dcc499",
   "metadata": {},
   "source": [
    "#### 1. How many olympics games have been held?"
   ]
  },
  {
   "cell_type": "markdown",
   "id": "78445034",
   "metadata": {},
   "source": [
    "#### 2. List down all Olympics games held so far."
   ]
  },
  {
   "cell_type": "markdown",
   "id": "e05e5cf4",
   "metadata": {},
   "source": [
    "#### 3. Mention the total no of nations who participated in each olympics game?"
   ]
  },
  {
   "cell_type": "markdown",
   "id": "ee7ba2b4",
   "metadata": {},
   "source": [
    "#### 4. Which year saw the highest and lowest no of countries participating in olympics?"
   ]
  },
  {
   "cell_type": "markdown",
   "id": "0a5ac9df",
   "metadata": {},
   "source": [
    "#### 5. Fetch the total no of sports played in each olympic games."
   ]
  },
  {
   "cell_type": "markdown",
   "id": "8fef992a",
   "metadata": {},
   "source": [
    "#### 6. Fetch details of the oldest athletes to win a gold medal."
   ]
  },
  {
   "cell_type": "markdown",
   "id": "f1162e6b",
   "metadata": {},
   "source": [
    "#### 7. Find the Ratio of male and female athletes participated in all olympic games."
   ]
  },
  {
   "cell_type": "markdown",
   "id": "6ffa2d99",
   "metadata": {},
   "source": [
    "#### 8. How many Gold medals were won during Summer and Winter seasons?"
   ]
  },
  {
   "cell_type": "markdown",
   "id": "93636035",
   "metadata": {},
   "source": [
    "#### 9. What is the age of the heaviest athlete?"
   ]
  },
  {
   "cell_type": "markdown",
   "id": "80a4fd1a",
   "metadata": {},
   "source": [
    "#### 10. What team won the most Gold medals?"
   ]
  },
  {
   "cell_type": "markdown",
   "id": "28fd86dc",
   "metadata": {},
   "source": [
    "<div class=\"alert alert-block alert-danger\">\n",
    "    <h1>CLOSE DB CONNECTION!!!</h1>\n",
    "</div>"
   ]
  },
  {
   "cell_type": "code",
   "execution_count": null,
   "id": "cabd3487",
   "metadata": {},
   "outputs": [],
   "source": [
    "con.close()"
   ]
  }
 ],
 "metadata": {
  "kernelspec": {
   "display_name": "Python 3 (ipykernel)",
   "language": "python",
   "name": "python3"
  },
  "language_info": {
   "codemirror_mode": {
    "name": "ipython",
    "version": 3
   },
   "file_extension": ".py",
   "mimetype": "text/x-python",
   "name": "python",
   "nbconvert_exporter": "python",
   "pygments_lexer": "ipython3",
   "version": "3.9.13"
  }
 },
 "nbformat": 4,
 "nbformat_minor": 5
}
