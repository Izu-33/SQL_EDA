{
 "cells": [
  {
   "cell_type": "markdown",
   "id": "5825bff8",
   "metadata": {},
   "source": [
    "<div class=\"alert alert-block alert-info\">\n",
    "    <h1>List of Queries</h1>\n",
    "    <p>These queries are the solution to the corresponding SQL questions asked about the Olympics dataset from Kaggle.</p>\n",
    "</div>"
   ]
  },
  {
   "cell_type": "markdown",
   "id": "608b0035",
   "metadata": {},
   "source": [
    "### Connect to SQLite Db"
   ]
  },
  {
   "cell_type": "code",
   "execution_count": null,
   "id": "7647a48b",
   "metadata": {},
   "outputs": [],
   "source": [
    "%load_ext sql"
   ]
  },
  {
   "cell_type": "code",
   "execution_count": null,
   "id": "0b850266",
   "metadata": {},
   "outputs": [],
   "source": [
    "import csv, sqlite3"
   ]
  },
  {
   "cell_type": "code",
   "execution_count": null,
   "id": "02fe994c",
   "metadata": {},
   "outputs": [],
   "source": [
    "con = sqlite3.connect(\"athletes.db\")\n",
    "cur = con.cursor()"
   ]
  },
  {
   "cell_type": "code",
   "execution_count": null,
   "id": "04c33e41",
   "metadata": {},
   "outputs": [],
   "source": [
    "%sql sqlite:///athletes.db"
   ]
  },
  {
   "cell_type": "markdown",
   "id": "146927d2",
   "metadata": {},
   "source": [
    "### Commence querying"
   ]
  },
  {
   "cell_type": "markdown",
   "id": "bdade3da",
   "metadata": {},
   "source": [
    "Explore column names of `athletes` table."
   ]
  },
  {
   "cell_type": "code",
   "execution_count": null,
   "id": "59eb164b",
   "metadata": {},
   "outputs": [],
   "source": [
    "%%sql\n",
    "\n",
    "PRAGMA table_info(athletes);"
   ]
  },
  {
   "cell_type": "markdown",
   "id": "0c531098",
   "metadata": {},
   "source": [
    "Return first few rows"
   ]
  },
  {
   "cell_type": "code",
   "execution_count": null,
   "id": "18672f8c",
   "metadata": {},
   "outputs": [],
   "source": [
    "%%sql\n",
    "\n",
    "SELECT * FROM athletes LIMIT 3;"
   ]
  },
  {
   "cell_type": "markdown",
   "id": "6ead6718",
   "metadata": {},
   "source": [
    "1. Fetch the top 5 athletes who have won the most gold medals."
   ]
  },
  {
   "cell_type": "code",
   "execution_count": null,
   "id": "9afa4e18",
   "metadata": {},
   "outputs": [],
   "source": [
    "%%sql\n",
    "\n",
    "SELECT Name, COUNT(*) AS Gold_medal\n",
    "FROM athletes\n",
    "WHERE Medal = 'Gold'\n",
    "GROUP BY Name\n",
    "ORDER BY Gold_medal DESC\n",
    "LIMIT 5;"
   ]
  },
  {
   "cell_type": "markdown",
   "id": "a9113cab",
   "metadata": {},
   "source": [
    "2. Fetch the top 5 most successful countries in olympics. Success is defined by no of medals won."
   ]
  },
  {
   "cell_type": "code",
   "execution_count": null,
   "id": "26e11630",
   "metadata": {},
   "outputs": [],
   "source": [
    "%%sql\n",
    "\n",
    "SELECT Team, COUNT(Medal) AS Number_of_medals\n",
    "FROM athletes\n",
    "WHERE Medal <> 'None'\n",
    "GROUP BY Team\n",
    "ORDER BY Number_of_medals DESC\n",
    "LIMIT 5;"
   ]
  },
  {
   "cell_type": "markdown",
   "id": "f4908cad",
   "metadata": {},
   "source": [
    "3. List down total gold medals won by each country."
   ]
  },
  {
   "cell_type": "code",
   "execution_count": null,
   "id": "d058d7af",
   "metadata": {},
   "outputs": [],
   "source": [
    "%%sql\n",
    "\n",
    "SELECT Team, COUNT(Medal) AS Gold_medals\n",
    "FROM athletes\n",
    "WHERE Medal = 'Gold'\n",
    "GROUP BY Team;"
   ]
  },
  {
   "cell_type": "markdown",
   "id": "9908ff96",
   "metadata": {},
   "source": [
    "4. Identify which country won the most bronze medals."
   ]
  },
  {
   "cell_type": "code",
   "execution_count": null,
   "id": "2f1ae3e8",
   "metadata": {},
   "outputs": [],
   "source": [
    "%%sql\n",
    "\n",
    "SELECT Team, COUNT(Medal) AS Bronze_medals\n",
    "FROM athletes\n",
    "WHERE Medal = 'Bronze'\n",
    "GROUP BY Team\n",
    "ORDER BY Bronze_medals DESC\n",
    "LIMIT 1;"
   ]
  },
  {
   "cell_type": "markdown",
   "id": "4303b25f",
   "metadata": {},
   "source": [
    "5. In which Sport/event, United States has won highest medals?"
   ]
  },
  {
   "cell_type": "code",
   "execution_count": null,
   "id": "07aadfc1",
   "metadata": {},
   "outputs": [],
   "source": [
    "%%sql\n",
    "\n",
    "SELECT Sport, COUNT(Medal) AS Medals\n",
    "FROM athletes\n",
    "WHERE Team = 'United States' AND Medal <> 'None'\n",
    "GROUP BY Sport\n",
    "ORDER BY Medals DESC\n",
    "LIMIT 1;"
   ]
  },
  {
   "cell_type": "markdown",
   "id": "297e43ac",
   "metadata": {},
   "source": [
    "6. Break down all olympic games where United States won medals for and how many medals where won in each olympic games."
   ]
  },
  {
   "cell_type": "code",
   "execution_count": null,
   "id": "de2b6aad",
   "metadata": {},
   "outputs": [],
   "source": [
    "%%sql\n",
    "\n",
    "SELECT Games, COUNT(Medal) AS Num_of_medals\n",
    "FROM athletes\n",
    "WHERE Team = 'United States' AND Medal <> 'None'\n",
    "GROUP BY Games;"
   ]
  }
 ],
 "metadata": {
  "kernelspec": {
   "display_name": "Python 3 (ipykernel)",
   "language": "python",
   "name": "python3"
  },
  "language_info": {
   "codemirror_mode": {
    "name": "ipython",
    "version": 3
   },
   "file_extension": ".py",
   "mimetype": "text/x-python",
   "name": "python",
   "nbconvert_exporter": "python",
   "pygments_lexer": "ipython3",
   "version": "3.9.13"
  }
 },
 "nbformat": 4,
 "nbformat_minor": 5
}
