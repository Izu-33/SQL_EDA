{
 "cells": [
  {
   "cell_type": "markdown",
   "id": "708591e2",
   "metadata": {},
   "source": [
    "<div class=\"alert alert-block alert-info\">\n",
    "    <h1>List of Queries</h1>\n",
    "    <p>These queries are the solution to the corresponding SQL questions asked about the Olympics dataset from Kaggle.</p>\n",
    "</div>"
   ]
  },
  {
   "cell_type": "markdown",
   "id": "b95f2865",
   "metadata": {},
   "source": [
    "### Connect to SQLite Db"
   ]
  },
  {
   "cell_type": "code",
   "execution_count": null,
   "id": "0479db0a",
   "metadata": {},
   "outputs": [],
   "source": [
    "%load_ext sql"
   ]
  },
  {
   "cell_type": "code",
   "execution_count": null,
   "id": "b18e1f12",
   "metadata": {},
   "outputs": [],
   "source": [
    "import csv, sqlite3"
   ]
  },
  {
   "cell_type": "code",
   "execution_count": null,
   "id": "b1976f3a",
   "metadata": {},
   "outputs": [],
   "source": [
    "con = sqlite3.connect(\"athletes.db\")\n",
    "cur = con.cursor()"
   ]
  },
  {
   "cell_type": "code",
   "execution_count": null,
   "id": "781186ad",
   "metadata": {},
   "outputs": [],
   "source": [
    "%sql sqlite:///athletes.db"
   ]
  },
  {
   "cell_type": "markdown",
   "id": "70c565d9",
   "metadata": {},
   "source": [
    "### Commence querying"
   ]
  },
  {
   "cell_type": "markdown",
   "id": "3309a1ae",
   "metadata": {},
   "source": [
    "Explore column names of `athletes` table."
   ]
  },
  {
   "cell_type": "code",
   "execution_count": null,
   "id": "456ccf8d",
   "metadata": {},
   "outputs": [],
   "source": [
    "%%sql\n",
    "\n",
    "PRAGMA table_info(athletes);"
   ]
  },
  {
   "cell_type": "markdown",
   "id": "7464c082",
   "metadata": {},
   "source": [
    "Return first few rows"
   ]
  },
  {
   "cell_type": "code",
   "execution_count": null,
   "id": "75f2bd04",
   "metadata": {},
   "outputs": [],
   "source": [
    "%%sql\n",
    "\n",
    "SELECT * FROM athletes LIMIT 3;"
   ]
  },
  {
   "cell_type": "markdown",
   "id": "952dd1cd",
   "metadata": {},
   "source": [
    "1. How many olympics games have been held?"
   ]
  },
  {
   "cell_type": "code",
   "execution_count": null,
   "id": "8a5bb163",
   "metadata": {},
   "outputs": [],
   "source": [
    "%%sql\n",
    "\n",
    "SELECT COUNT(Games) AS Num_of_games\n",
    "FROM athletes;"
   ]
  },
  {
   "cell_type": "markdown",
   "id": "5b4790b0",
   "metadata": {},
   "source": [
    "2. List down all Olympics games held so far."
   ]
  },
  {
   "cell_type": "code",
   "execution_count": null,
   "id": "54eef4a8",
   "metadata": {},
   "outputs": [],
   "source": [
    "%%sql\n",
    "\n",
    "SELECT DISTINCT Games\n",
    "FROM athletes;"
   ]
  },
  {
   "cell_type": "markdown",
   "id": "cd57760a",
   "metadata": {},
   "source": [
    "3. Mention the total no of nations who participated in each olympics game?"
   ]
  },
  {
   "cell_type": "code",
   "execution_count": null,
   "id": "ce1a7e32",
   "metadata": {},
   "outputs": [],
   "source": [
    "%%sql\n",
    "\n",
    "SELECT Games, COUNT(DISTINCT Team) AS Number_of_Nations\n",
    "FROM athletes\n",
    "GROUP BY Games;"
   ]
  },
  {
   "cell_type": "markdown",
   "id": "67194ed2",
   "metadata": {},
   "source": [
    "4. Which year saw the highest and lowest no of countries participating in olympics?"
   ]
  },
  {
   "cell_type": "code",
   "execution_count": null,
   "id": "655b00ba",
   "metadata": {},
   "outputs": [],
   "source": [
    "%%sql\n",
    "\n",
    "SELECT Year, MIN(Number_of_nations)\n",
    "FROM\n",
    "    (SELECT Year, COUNT(DISTINCT Team) AS Number_of_nations\n",
    "    FROM athletes\n",
    "    GROUP BY Year);"
   ]
  },
  {
   "cell_type": "code",
   "execution_count": null,
   "id": "125feb13",
   "metadata": {},
   "outputs": [],
   "source": [
    "%%sql\n",
    "\n",
    "SELECT Year, MAX(Number_of_nations)\n",
    "FROM\n",
    "    (SELECT Year, COUNT(DISTINCT Team) AS Number_of_nations\n",
    "    FROM athletes\n",
    "    GROUP BY Year);"
   ]
  },
  {
   "cell_type": "markdown",
   "id": "325d34ae",
   "metadata": {},
   "source": [
    "5. Fetch the total no of sports played in each olympic games."
   ]
  },
  {
   "cell_type": "code",
   "execution_count": null,
   "id": "7c908c0a",
   "metadata": {},
   "outputs": [],
   "source": [
    "%%sql\n",
    "\n",
    "SELECT Games, COUNT(Sport) AS Total_sport_played\n",
    "FROM athletes\n",
    "GROUP BY Games;"
   ]
  },
  {
   "cell_type": "markdown",
   "id": "862e8155",
   "metadata": {},
   "source": [
    "6. Fetch details of the oldest athletes to win a gold medal."
   ]
  },
  {
   "cell_type": "code",
   "execution_count": null,
   "id": "a37772f2",
   "metadata": {},
   "outputs": [],
   "source": [
    "%%sql\n",
    "\n",
    "SELECT *\n",
    "FROM athletes\n",
    "WHERE Age = (SELECT MAX(Age)\n",
    "            FROM athletes);"
   ]
  },
  {
   "cell_type": "markdown",
   "id": "d75ce26c",
   "metadata": {},
   "source": [
    "7. Find the Ratio of male and female athletes participated in all olympic games."
   ]
  },
  {
   "cell_type": "code",
   "execution_count": null,
   "id": "c8fe3843",
   "metadata": {
    "scrolled": true
   },
   "outputs": [],
   "source": [
    "%%sql\n",
    "\n",
    "SELECT Sex, COUNT(*) AS Count_of_athletes\n",
    "FROM athletes\n",
    "GROUP BY Sex;"
   ]
  },
  {
   "cell_type": "markdown",
   "id": "359c5ade",
   "metadata": {},
   "source": [
    "8. How many Gold medals were won during Summer and Winter seasons?"
   ]
  },
  {
   "cell_type": "code",
   "execution_count": null,
   "id": "3967a038",
   "metadata": {},
   "outputs": [],
   "source": [
    "%%sql\n",
    "\n",
    "SELECT Season, COUNT(*) AS Gold_medals\n",
    "FROM athletes\n",
    "WHERE Medal = 'Gold'\n",
    "GROUP BY Season;"
   ]
  },
  {
   "cell_type": "markdown",
   "id": "290816f4",
   "metadata": {},
   "source": [
    "9. What is the age of the heaviest athlete?"
   ]
  },
  {
   "cell_type": "code",
   "execution_count": null,
   "id": "ea3d4886",
   "metadata": {},
   "outputs": [],
   "source": [
    "%%sql\n",
    "\n",
    "SELECT *\n",
    "FROM athletes\n",
    "WHERE Weight = (SELECT MAX(Weight)\n",
    "                     FROM athletes);"
   ]
  },
  {
   "cell_type": "markdown",
   "id": "f332a620",
   "metadata": {},
   "source": [
    "10. What team won the most Gold medals?"
   ]
  },
  {
   "cell_type": "code",
   "execution_count": null,
   "id": "8f489be6",
   "metadata": {},
   "outputs": [],
   "source": [
    "%%sql\n",
    "\n",
    "SELECT Team, COUNT(*) AS Gold_medals\n",
    "FROM athletes\n",
    "WHERE Medal = 'Gold'\n",
    "GROUP BY Team\n",
    "ORDER BY Gold_medals DESC\n",
    "LIMIT 1;"
   ]
  }
 ],
 "metadata": {
  "kernelspec": {
   "display_name": "Python 3 (ipykernel)",
   "language": "python",
   "name": "python3"
  },
  "language_info": {
   "codemirror_mode": {
    "name": "ipython",
    "version": 3
   },
   "file_extension": ".py",
   "mimetype": "text/x-python",
   "name": "python",
   "nbconvert_exporter": "python",
   "pygments_lexer": "ipython3",
   "version": "3.9.13"
  }
 },
 "nbformat": 4,
 "nbformat_minor": 5
}
